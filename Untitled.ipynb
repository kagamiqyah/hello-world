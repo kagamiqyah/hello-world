{
 "cells": [
  {
   "cell_type": "markdown",
   "metadata": {},
   "source": [
    "#### Numpy随机模块"
   ]
  },
  {
   "cell_type": "code",
   "execution_count": 2,
   "metadata": {},
   "outputs": [],
   "source": [
    "from IPython.core.interactiveshell import InteractiveShell\n",
    "InteractiveShell.ast_node_interactivity = \"all\"\n",
    "import numpy as np"
   ]
  },
  {
   "cell_type": "markdown",
   "metadata": {},
   "source": [
    "- np.random.rand\n",
    "\n",
    "rand(d0, d1, …, dn)\tRandom values in a given shape."
   ]
  },
  {
   "cell_type": "code",
   "execution_count": 59,
   "metadata": {},
   "outputs": [
    {
     "data": {
      "text/plain": [
       "array([[0.226012  , 0.10694568, 0.22030621],\n",
       "       [0.34982629, 0.46778748, 0.20174323]])"
      ]
     },
     "execution_count": 59,
     "metadata": {},
     "output_type": "execute_result"
    }
   ],
   "source": [
    "A = np.random.rand(2,3)\n",
    "A"
   ]
  },
  {
   "cell_type": "markdown",
   "metadata": {},
   "source": [
    "- np.random.randn\n",
    "\n",
    "randn(d0, d1, …, dn):Return a sample (or samples) from the “standard normal” distribution."
   ]
  },
  {
   "cell_type": "code",
   "execution_count": 60,
   "metadata": {},
   "outputs": [
    {
     "data": {
      "text/plain": [
       "array([[-2.69056960e-01,  2.23136679e+00, -2.43476758e+00,\n",
       "         1.12726505e-01],\n",
       "       [ 3.70444537e-01,  1.35963386e+00,  5.01857207e-01,\n",
       "        -8.44213704e-01],\n",
       "       [ 9.76147160e-06,  5.42352572e-01, -3.13508197e-01,\n",
       "         7.71011738e-01]])"
      ]
     },
     "execution_count": 60,
     "metadata": {},
     "output_type": "execute_result"
    }
   ],
   "source": [
    "npn = np.random.randn(3,4)\n",
    "npn"
   ]
  },
  {
   "cell_type": "markdown",
   "metadata": {},
   "source": [
    "- numpy.random.randint\n",
    "\n",
    "randint(low,[,high,size,dtpye]): Return random integers from low (inclusive) to high (exclusive)."
   ]
  },
  {
   "cell_type": "code",
   "execution_count": 61,
   "metadata": {},
   "outputs": [
    {
     "data": {
      "text/plain": [
       "array([[108, 176],\n",
       "       [110, 140],\n",
       "       [134, 160],\n",
       "       [109, 170],\n",
       "       [186, 170]])"
      ]
     },
     "execution_count": 61,
     "metadata": {},
     "output_type": "execute_result"
    }
   ],
   "source": [
    "npi = np.random.randint(100,200,size=(5,2))\n",
    "npi"
   ]
  },
  {
   "cell_type": "markdown",
   "metadata": {},
   "source": [
    "- numpy.random.random\n",
    "\n",
    "random([size]):Return random floats in the half-open interval [0.0, 1.0)."
   ]
  },
  {
   "cell_type": "code",
   "execution_count": 62,
   "metadata": {},
   "outputs": [
    {
     "data": {
      "text/plain": [
       "array([0.81413841, 0.94809042, 0.82288464, 0.51513912, 0.22099815,\n",
       "       0.74663141, 0.43153777, 0.88830375, 0.9411933 , 0.50301225])"
      ]
     },
     "execution_count": 62,
     "metadata": {},
     "output_type": "execute_result"
    }
   ],
   "source": [
    "npr = np.random.random(10)\n",
    "npr"
   ]
  },
  {
   "cell_type": "markdown",
   "metadata": {},
   "source": [
    "- numpy.random.choice\n",
    "\n",
    "choice(a[, size, replace, p]):Generates a random sample from a given 1-D array\n",
    "a为数组或整数，size为数组维度，replace是布林值，True为选取的元素可以重复，False为选取的元素不会重复，p为元素出现的概率"
   ]
  },
  {
   "cell_type": "code",
   "execution_count": 63,
   "metadata": {},
   "outputs": [
    {
     "data": {
      "text/plain": [
       "array([[5, 8, 3, 0, 0],\n",
       "       [5, 7, 5, 0, 8]])"
      ]
     },
     "execution_count": 63,
     "metadata": {},
     "output_type": "execute_result"
    },
    {
     "data": {
      "text/plain": [
       "array([[4, 9, 0, 7, 2],\n",
       "       [8, 1, 3, 5, 6]])"
      ]
     },
     "execution_count": 63,
     "metadata": {},
     "output_type": "execute_result"
    }
   ],
   "source": [
    "npc1 = np.random.choice(10,size =(2,5),replace = True)\n",
    "npc2 = np.random.choice(10,size =(2,5),replace = False)\n",
    "npc1\n",
    "npc2"
   ]
  },
  {
   "cell_type": "markdown",
   "metadata": {},
   "source": []
  },
  {
   "cell_type": "markdown",
   "metadata": {},
   "source": [
    "- numpy.random.seed\n",
    "\n",
    "seed([seed]):Seed the generator.\n",
    "\n",
    "seed:用于指定随机数生成时所用算法开始的整数值，如果使用相同的seed的值，\n",
    "     则每次生成的随机数都相同，如果不设置这个值，则系统根据时间来自己选择这个值，\n",
    "     此时每次生成的随机数因时间差异而不同。"
   ]
  },
  {
   "cell_type": "code",
   "execution_count": 64,
   "metadata": {},
   "outputs": [
    {
     "data": {
      "text/plain": [
       "array([[-0.41675785, -0.05626683],\n",
       "       [-2.1361961 ,  1.64027081]])"
      ]
     },
     "execution_count": 64,
     "metadata": {},
     "output_type": "execute_result"
    }
   ],
   "source": [
    "np.random.seed(2)\n",
    "nps1 = np.random.randn(2,2)\n",
    "nps1"
   ]
  },
  {
   "cell_type": "code",
   "execution_count": 65,
   "metadata": {},
   "outputs": [
    {
     "data": {
      "text/plain": [
       "array([[-1.79343559, -0.84174737],\n",
       "       [ 0.50288142, -1.24528809]])"
      ]
     },
     "execution_count": 65,
     "metadata": {},
     "output_type": "execute_result"
    }
   ],
   "source": [
    "nps2 = np.random.randn(2,2)\n",
    "nps2"
   ]
  },
  {
   "cell_type": "code",
   "execution_count": 66,
   "metadata": {},
   "outputs": [
    {
     "data": {
      "text/plain": [
       "array([[-0.41675785, -0.05626683],\n",
       "       [-2.1361961 ,  1.64027081]])"
      ]
     },
     "execution_count": 66,
     "metadata": {},
     "output_type": "execute_result"
    }
   ],
   "source": [
    "np.random.seed(2)\n",
    "nps3 = np.random.randn(2,2)\n",
    "nps3"
   ]
  },
  {
   "cell_type": "markdown",
   "metadata": {},
   "source": [
    "注意:nps1和nps3因为种子相同，所以生成的随机数都相同"
   ]
  },
  {
   "cell_type": "markdown",
   "metadata": {},
   "source": [
    "- numpy.random.RandomState\n",
    "\n",
    "\n",
    "RandomState([seed]):Container for the Mersenne Twister pseudo-random number generator.\n",
    "    \n",
    "这个函数是伪随机数产生器"
   ]
  },
  {
   "cell_type": "code",
   "execution_count": 67,
   "metadata": {},
   "outputs": [
    {
     "data": {
      "text/plain": [
       "array([[0.05994978, 0.9898096 , 0.48326966],\n",
       "       [0.47322065, 0.85520292, 0.39842349]])"
      ]
     },
     "execution_count": 67,
     "metadata": {},
     "output_type": "execute_result"
    }
   ],
   "source": [
    "npR = np.random.RandomState(23355)\n",
    "npu = npR.uniform(0,1,(2,3))\n",
    "npu"
   ]
  },
  {
   "cell_type": "markdown",
   "metadata": {},
   "source": [
    "- numpy.random.shuffle\n",
    "\n",
    "\n",
    "shuffle(x):Modify a sequence in-place by shuffling its contents.\n",
    "\n",
    "多维矩阵中，只对第一维（行）做打乱顺序操作）"
   ]
  },
  {
   "cell_type": "code",
   "execution_count": 68,
   "metadata": {},
   "outputs": [
    {
     "data": {
      "text/plain": [
       "array([5, 2, 3, 4, 1])"
      ]
     },
     "execution_count": 68,
     "metadata": {},
     "output_type": "execute_result"
    }
   ],
   "source": [
    "npar = np.array([1,2,3,4,5])\n",
    "\n",
    "nps = np.random.shuffle(npar)\n",
    "nps\n",
    "npar"
   ]
  },
  {
   "cell_type": "markdown",
   "metadata": {},
   "source": [
    "注意，虽然print nps会返回none值，但是之后再print原数组，顺序已打乱，已改变了原数组。"
   ]
  },
  {
   "cell_type": "markdown",
   "metadata": {},
   "source": [
    "#### Numpy排序"
   ]
  },
  {
   "cell_type": "markdown",
   "metadata": {},
   "source": [
    "- numpy.sort\n",
    "\n",
    "sort(a[, axis, kind, order]):Return a sorted copy of an array.\n",
    "\n",
    "a： 所需排序的数组\n",
    "axis：数组排序时的基准，axis=0，按列排列；axis=1，按行排列\n",
    "kind：数组排序时使用的方法\n",
    "order：一个字符串或列表，可以设置按照某个属性进行排序"
   ]
  },
  {
   "cell_type": "code",
   "execution_count": 69,
   "metadata": {},
   "outputs": [
    {
     "name": "stdout",
     "output_type": "stream",
     "text": [
      "[[ 2  8  9]\n",
      " [32  4  8]\n",
      " [ 7 25 10]]\n",
      "[[ 2  4  8]\n",
      " [ 7  8  9]\n",
      " [32 25 10]]\n"
     ]
    }
   ],
   "source": [
    "B = np.array([[2,8,9],[32,4,8],[7,25,10]])\n",
    "\n",
    "print(B)\n",
    "\n",
    "B.sort(axis=0)\n",
    "\n",
    "print(B)"
   ]
  },
  {
   "cell_type": "code",
   "execution_count": 44,
   "metadata": {},
   "outputs": [
    {
     "name": "stdout",
     "output_type": "stream",
     "text": [
      "[[ 2  4  8]\n",
      " [ 7  8  9]\n",
      " [10 25 32]]\n"
     ]
    }
   ],
   "source": [
    "B.sort(axis=1)\n",
    "print(B)"
   ]
  },
  {
   "cell_type": "markdown",
   "metadata": {},
   "source": [
    "- numpy.argsort\n",
    "\n",
    "argsort(a[, axis, kind, order])：Returns the indices that would sort an array.\n",
    "\n",
    "argsort()函数是将x中的元素从小到大排列，提取其对应的index(索引号) "
   ]
  },
  {
   "cell_type": "code",
   "execution_count": 49,
   "metadata": {},
   "outputs": [
    {
     "name": "stdout",
     "output_type": "stream",
     "text": [
      "[3 1 2]\n",
      "Sorted x1: [1 2 0]\n",
      "[[0 3]\n",
      " [2 2]]\n",
      "Sorted x2 by column: [[0 1]\n",
      " [1 0]]\n",
      "Sorted x3 by raw: [[0 1]\n",
      " [0 1]]\n",
      "[1 2 0]\n",
      "[0 2 1]\n"
     ]
    }
   ],
   "source": [
    "#一维数组\n",
    "x1 = np.array([3, 1, 2])\n",
    "print(x1)\n",
    "y = np.argsort(x1)\n",
    "print(\"Sorted x1:\",y)\n",
    "\n",
    "#二维数组\n",
    "x2 = np.array([[0, 3], [2, 2]])\n",
    "print(x2)\n",
    "\n",
    "y = np.argsort(x2, axis=0)\n",
    "print(\"Sorted x2 by column:\",y)\n",
    "\n",
    "y1 = np.argsort(x2, axis=1)\n",
    "print(\"Sorted x3 by raw:\",y1)\n",
    "\n",
    "\n",
    "x4 = np.array([3, 1, 2])\n",
    "\n",
    "print(np.argsort(x4))#按升序排列\n",
    "\n",
    "print(np.argsort(-x4)) #按降序排列\n"
   ]
  },
  {
   "cell_type": "markdown",
   "metadata": {},
   "source": [
    "- numpy.searchshorted\n",
    "\n",
    "searchsorted(a, v[, side, sorter])：Find indices where elements should be inserted to maintain order.\n",
    "\n",
    "searchsorted（a，v）函数是判断v在a中哪两个元素值之间，并返回应该插入的index数"
   ]
  },
  {
   "cell_type": "code",
   "execution_count": 55,
   "metadata": {},
   "outputs": [
    {
     "name": "stdout",
     "output_type": "stream",
     "text": [
      "2\n"
     ]
    }
   ],
   "source": [
    "vs = np.array([1, 3, 5, 7, 9])\n",
    "vsv = np.searchsorted(vs,4.9)\n",
    "print(vsv)"
   ]
  },
  {
   "cell_type": "markdown",
   "metadata": {},
   "source": [
    "numpy.lexsort\n",
    "\n",
    "lexsort(keys[, axis])：Perform an indirect stable sort using a sequence of keys.\n",
    "\n",
    "\n",
    "lexsort支持对数组按指定行或列的顺序排序；是间接排序，lexsort不修改原数组，返回索引。"
   ]
  },
  {
   "cell_type": "code",
   "execution_count": 8,
   "metadata": {},
   "outputs": [
    {
     "data": {
      "text/plain": [
       "array([[22, 12,  3,  2],\n",
       "       [ 2,  7,  4,  2],\n",
       "       [35,  9,  1,  5]])"
      ]
     },
     "execution_count": 8,
     "metadata": {},
     "output_type": "execute_result"
    },
    {
     "data": {
      "text/plain": [
       "array([[ 2,  7,  4,  2],\n",
       "       [22, 12,  3,  2],\n",
       "       [35,  9,  1,  5]])"
      ]
     },
     "execution_count": 8,
     "metadata": {},
     "output_type": "execute_result"
    },
    {
     "data": {
      "text/plain": [
       "array([[ 2,  4,  7,  2],\n",
       "       [ 5,  1,  9, 35],\n",
       "       [ 2,  3, 12, 22]])"
      ]
     },
     "execution_count": 8,
     "metadata": {},
     "output_type": "execute_result"
    }
   ],
   "source": [
    "a = np.array([[ 2,  7,  4,  2],\n",
    "       [35,  9,  1,  5],\n",
    "       [22, 12,  3,  2]])\n",
    "a1 = a[np.lexsort(a.T)] #按最后一列顺序排序\n",
    "a1\n",
    "a2 = a[np.lexsort(a[:,::-1].T)] #按最后一列逆序排序\n",
    "a2\n",
    "a3 = a.T[np.lexsort(a)].T #按第一列顺序排序\n",
    "a3"
   ]
  },
  {
   "cell_type": "markdown",
   "metadata": {},
   "source": [
    "numpy.argmax    numpy.agrmin\n",
    "\n",
    "argmax(a[, axis, out]):Returns the indices of the maximum values along an axis.\n",
    "argmin(a[, axis, out])\tReturns the indices of the minimum values along an axis.\n",
    "\n",
    "如数组.argmax()或argmin()返回axis轴向上最小值的,或最大值,np.argmin（数组）或np.argmax（数组）返回的是索引值"
   ]
  },
  {
   "cell_type": "code",
   "execution_count": 10,
   "metadata": {},
   "outputs": [
    {
     "data": {
      "text/plain": [
       "0"
      ]
     },
     "execution_count": 10,
     "metadata": {},
     "output_type": "execute_result"
    },
    {
     "data": {
      "text/plain": [
       "5"
      ]
     },
     "execution_count": 10,
     "metadata": {},
     "output_type": "execute_result"
    }
   ],
   "source": [
    "a = np.arange(6).reshape(2,3)\n",
    "a.argmin()\n",
    "a.argmax()"
   ]
  },
  {
   "cell_type": "code",
   "execution_count": 11,
   "metadata": {},
   "outputs": [
    {
     "data": {
      "text/plain": [
       "array([0, 0, 0])"
      ]
     },
     "execution_count": 11,
     "metadata": {},
     "output_type": "execute_result"
    },
    {
     "data": {
      "text/plain": [
       "array([2, 2])"
      ]
     },
     "execution_count": 11,
     "metadata": {},
     "output_type": "execute_result"
    }
   ],
   "source": [
    "b = np.argmin(a,axis=0)\n",
    "c = np.argmax(a,axis=1)\n",
    "b\n",
    "c"
   ]
  },
  {
   "cell_type": "markdown",
   "metadata": {},
   "source": [
    "#### Numpy的数学运算"
   ]
  },
  {
   "cell_type": "markdown",
   "metadata": {},
   "source": [
    "numpy.sum\n",
    "\n",
    "sum(a[, axis, dtype, out, keepdims, …]):Sum of array elements over a given axis.\n",
    "    \n",
    "a是要进行加法运算的向量/数组/矩阵\n",
    "axis的值可以为None,也可以为整数和元组"
   ]
  },
  {
   "cell_type": "code",
   "execution_count": 13,
   "metadata": {},
   "outputs": [
    {
     "data": {
      "text/plain": [
       "1"
      ]
     },
     "execution_count": 13,
     "metadata": {},
     "output_type": "execute_result"
    }
   ],
   "source": [
    "np.sum([0.5, 0.7, 0.2, 1.5], dtype=np.int32)"
   ]
  },
  {
   "cell_type": "markdown",
   "metadata": {},
   "source": [
    "当axis为0时,是压缩行,即将每一列的元素相加,将矩阵压缩为一行，当axis为1时,是压缩列,即将每一行的元素相加,将矩阵压缩为一列"
   ]
  },
  {
   "cell_type": "code",
   "execution_count": 14,
   "metadata": {},
   "outputs": [
    {
     "data": {
      "text/plain": [
       "array([0, 6])"
      ]
     },
     "execution_count": 14,
     "metadata": {},
     "output_type": "execute_result"
    },
    {
     "data": {
      "text/plain": [
       "array([1, 5])"
      ]
     },
     "execution_count": 14,
     "metadata": {},
     "output_type": "execute_result"
    }
   ],
   "source": [
    "np.sum([[0, 1], [0, 5]], axis=0)\n",
    "np.sum([[0, 1], [0, 5]], axis=1)"
   ]
  },
  {
   "cell_type": "markdown",
   "metadata": {},
   "source": [
    "当axis取负数的时候，对于二维矩阵，只能取-1和-2\n",
    "如果axis为整数元组（x，y），则是求出axis=x和axis=y情况下得到的和。"
   ]
  },
  {
   "cell_type": "code",
   "execution_count": 15,
   "metadata": {},
   "outputs": [
    {
     "data": {
      "text/plain": [
       "6"
      ]
     },
     "execution_count": 15,
     "metadata": {},
     "output_type": "execute_result"
    },
    {
     "data": {
      "text/plain": [
       "6"
      ]
     },
     "execution_count": 15,
     "metadata": {},
     "output_type": "execute_result"
    }
   ],
   "source": [
    "np.sum([[0,1],[0,5]],axis=(0,1))\n",
    "np.sum([[0,1],[0,5]],axis=(1,0))"
   ]
  },
  {
   "cell_type": "markdown",
   "metadata": {},
   "source": [
    "numpy.prod\n",
    "\n",
    "prod(a[, axis, dtype, out, keepdims, …]):Return the product of array elements over a given axis.\n",
    "\n",
    "计算数组的按要求乘积"
   ]
  },
  {
   "cell_type": "code",
   "execution_count": 19,
   "metadata": {},
   "outputs": [
    {
     "data": {
      "text/plain": [
       "array([448, 800, 720])"
      ]
     },
     "execution_count": 19,
     "metadata": {},
     "output_type": "execute_result"
    }
   ],
   "source": [
    "a = np.array([[2,8,9],[32,4,8],[7,25,10]])\n",
    "np.prod(a,axis = 0,)"
   ]
  },
  {
   "cell_type": "markdown",
   "metadata": {},
   "source": [
    "numpy.min \n",
    "numpy.max\n",
    "\n",
    "分别取最小，最大数\n",
    "当指定axis时，axis的范围为ndarray的维度范围，可以利用shape函数获取ndrray的维度"
   ]
  },
  {
   "cell_type": "code",
   "execution_count": 21,
   "metadata": {},
   "outputs": [
    {
     "data": {
      "text/plain": [
       "array([5, 6])"
      ]
     },
     "execution_count": 21,
     "metadata": {},
     "output_type": "execute_result"
    },
    {
     "data": {
      "text/plain": [
       "array([1, 2, 3])"
      ]
     },
     "execution_count": 21,
     "metadata": {},
     "output_type": "execute_result"
    }
   ],
   "source": [
    "arr1 = np.array([[1, 5, 3], [4, 2, 6]])\n",
    "np.max(arr1,axis =1)\n",
    "np.min(arr1,axis =0)"
   ]
  },
  {
   "cell_type": "code",
   "execution_count": 22,
   "metadata": {},
   "outputs": [
    {
     "data": {
      "text/plain": [
       "(3,)"
      ]
     },
     "execution_count": 22,
     "metadata": {},
     "output_type": "execute_result"
    },
    {
     "data": {
      "text/plain": [
       "array([1, 2])"
      ]
     },
     "execution_count": 22,
     "metadata": {},
     "output_type": "execute_result"
    }
   ],
   "source": [
    "\n",
    "arr1 = np.array([[1, 5, 3], [4, 2, 6]])\n",
    "\n",
    "np.min(arr1, axis=0).shape\n",
    "\n",
    "np.min(arr1, axis=1)"
   ]
  },
  {
   "cell_type": "markdown",
   "metadata": {},
   "source": [
    "numpy.clip\n",
    "\n",
    "clip(a, a_min, a_max[, out])：Clip (limit) the values in an array.\n",
    "\n",
    "数组中元素小于最小值的，替换成最小值；大于最大值的，替换成最大值，返回与原数组一样数量的新数组。"
   ]
  },
  {
   "cell_type": "code",
   "execution_count": 23,
   "metadata": {},
   "outputs": [
    {
     "data": {
      "text/plain": [
       "array([[3, 3, 3, 5, 6, 7, 8, 8],\n",
       "       [3, 3, 3, 5, 6, 7, 8, 8]])"
      ]
     },
     "execution_count": 23,
     "metadata": {},
     "output_type": "execute_result"
    }
   ],
   "source": [
    "x=np.array([[1,2,3,5,6,7,8,9],[1,2,3,5,6,7,8,9]])\n",
    "np.clip(x,3,8)"
   ]
  },
  {
   "cell_type": "markdown",
   "metadata": {},
   "source": [
    "numpy.round\n",
    "\n",
    "round_(a[, decimals, out])：Round an array to the given number of decimals\n",
    "\n",
    "如果四舍五入时候到两边的距离一样，结果会是偶数部分的值"
   ]
  },
  {
   "cell_type": "code",
   "execution_count": 24,
   "metadata": {},
   "outputs": [
    {
     "data": {
      "text/plain": [
       "array([0., 2., 2., 4., 4.])"
      ]
     },
     "execution_count": 24,
     "metadata": {},
     "output_type": "execute_result"
    }
   ],
   "source": [
    "np.round([.5, 1.5, 2.5, 3.5, 4.5])"
   ]
  },
  {
   "cell_type": "markdown",
   "metadata": {},
   "source": [
    "numpy.intersect1d\n",
    "\n",
    "intersect1d(ar1, ar2[,assume_unique, …])：Find the intersection of two arrays.\n",
    "\n",
    "返回两个数组的交集"
   ]
  },
  {
   "cell_type": "code",
   "execution_count": 28,
   "metadata": {},
   "outputs": [
    {
     "data": {
      "text/plain": [
       "array([1, 3])"
      ]
     },
     "execution_count": 28,
     "metadata": {},
     "output_type": "execute_result"
    }
   ],
   "source": [
    "np.intersect1d([1, 3, 4, 3], [3, 1, 2, 1])"
   ]
  },
  {
   "cell_type": "markdown",
   "metadata": {},
   "source": [
    "numpy.setdiff1d\n",
    "\n",
    "setdiff1d(ar1, ar2[, assume_unique])：Find the set difference of two arrays.\n",
    "\n",
    "返回两个数组的不同元素集"
   ]
  },
  {
   "cell_type": "code",
   "execution_count": 29,
   "metadata": {},
   "outputs": [
    {
     "data": {
      "text/plain": [
       "array([4])"
      ]
     },
     "execution_count": 29,
     "metadata": {},
     "output_type": "execute_result"
    }
   ],
   "source": [
    "np.setdiff1d([1, 3, 4, 3], [3, 1, 2, 1])"
   ]
  },
  {
   "cell_type": "markdown",
   "metadata": {},
   "source": [
    "numpy.union1d\n",
    "\n",
    "union1d(ar1, ar2):Find the union of two arrays\n",
    "\n",
    "返回两个数组的并集"
   ]
  },
  {
   "cell_type": "code",
   "execution_count": 30,
   "metadata": {},
   "outputs": [
    {
     "data": {
      "text/plain": [
       "array([1, 2, 3, 4])"
      ]
     },
     "execution_count": 30,
     "metadata": {},
     "output_type": "execute_result"
    }
   ],
   "source": [
    "np.union1d([1, 3, 4, 3], [3, 1, 2, 1])"
   ]
  },
  {
   "cell_type": "markdown",
   "metadata": {},
   "source": [
    "#### numpy 数据连接"
   ]
  },
  {
   "cell_type": "markdown",
   "metadata": {},
   "source": [
    "numpy.concatenate\n",
    "\n",
    "\n",
    "concatenate((a1, a2, …)[, axis, out])：Join a sequence of arrays along an existing axis.\n",
    "\n",
    "将具有相同结构的array序列结合成一个array"
   ]
  },
  {
   "cell_type": "code",
   "execution_count": 38,
   "metadata": {},
   "outputs": [
    {
     "data": {
      "text/plain": [
       "array([[ 1,  4,  5,  6,  7],\n",
       "       [32, 45, 67, 43, 63],\n",
       "       [ 3,  5,  6,  2,  9],\n",
       "       [ 3,  5,  7,  3,  9],\n",
       "       [46, 42, 47, 42, 84],\n",
       "       [ 1,  4,  7,  2,  6]])"
      ]
     },
     "execution_count": 38,
     "metadata": {},
     "output_type": "execute_result"
    }
   ],
   "source": [
    "np.concatenate(([[1,4,5,6,7],[32,45,67,43,63],[3,5,6,2,9]],[[3,5,7,3,9],[46,42,47,42,84],[1,4,7,2,6]]), axis=0, out=None)"
   ]
  },
  {
   "cell_type": "code",
   "execution_count": 37,
   "metadata": {},
   "outputs": [
    {
     "data": {
      "text/plain": [
       "array([[ 1,  4,  5,  6,  7,  3,  5,  7,  3,  9],\n",
       "       [32, 45, 67, 43, 63, 46, 42, 47, 42, 84],\n",
       "       [ 3,  5,  6,  2,  9,  1,  4,  7,  2,  6]])"
      ]
     },
     "execution_count": 37,
     "metadata": {},
     "output_type": "execute_result"
    }
   ],
   "source": [
    "np.concatenate(([[1,4,5,6,7],[32,45,67,43,63],[3,5,6,2,9]],[[3,5,7,3,9],[46,42,47,42,84],[1,4,7,2,6]]), axis=1, out=None)"
   ]
  },
  {
   "cell_type": "markdown",
   "metadata": {},
   "source": [
    "numpy.vstack\n",
    "\n",
    "numpy.hstack\n",
    "\n",
    "hstack(tup):Stack arrays in sequence horizontally (column wise).\n",
    "\n",
    "vstack(tup):Stack arrays in sequence vertically (row wise).\n",
    "    \n",
    "hstack 行堆积\n",
    "vstack 列堆积"
   ]
  },
  {
   "cell_type": "code",
   "execution_count": 40,
   "metadata": {},
   "outputs": [
    {
     "data": {
      "text/plain": [
       "array([13,  5,  3,  2,  3,  8])"
      ]
     },
     "execution_count": 40,
     "metadata": {},
     "output_type": "execute_result"
    },
    {
     "data": {
      "text/plain": [
       "array([[13,  5,  3],\n",
       "       [ 2,  3,  8]])"
      ]
     },
     "execution_count": 40,
     "metadata": {},
     "output_type": "execute_result"
    }
   ],
   "source": [
    "a = np.array((13,5,3))\n",
    "\n",
    "b = np.array((2,3,8))\n",
    "\n",
    "np.hstack((a,b))\n",
    "\n",
    "np.vstack((a,b))"
   ]
  },
  {
   "cell_type": "markdown",
   "metadata": {},
   "source": [
    "numpy.flatten \n",
    "\n",
    "numpy.ravel \n",
    "\n",
    "\n",
    "ravel(a[, order])：Return a contiguous flattened array\n",
    "\n",
    "flatten(order='C')：Return a copy of the array collapsed into one dimension.\n",
    "\n",
    "flatten 返回一个折叠成一维的数组\n",
    "\n",
    "ravel同上，但是改变成一个新数组 "
   ]
  },
  {
   "cell_type": "code",
   "execution_count": 45,
   "metadata": {},
   "outputs": [
    {
     "data": {
      "text/plain": [
       "array([1, 2, 3, 4])"
      ]
     },
     "execution_count": 45,
     "metadata": {},
     "output_type": "execute_result"
    },
    {
     "data": {
      "text/plain": [
       "array([1, 3, 2, 4])"
      ]
     },
     "execution_count": 45,
     "metadata": {},
     "output_type": "execute_result"
    },
    {
     "data": {
      "text/plain": [
       "array([[1, 2],\n",
       "       [3, 4]])"
      ]
     },
     "execution_count": 45,
     "metadata": {},
     "output_type": "execute_result"
    },
    {
     "data": {
      "text/plain": [
       "array([[  1, 100],\n",
       "       [  3,   4]])"
      ]
     },
     "execution_count": 45,
     "metadata": {},
     "output_type": "execute_result"
    }
   ],
   "source": [
    "x = np.array([[1, 2], [3, 4]])\n",
    "\n",
    "x.flatten() # flatten：返回的是拷贝\n",
    "\n",
    "x.ravel('F')\n",
    "\n",
    "x.flatten()[1] = 100\n",
    "\n",
    "x\n",
    "\n",
    "x.ravel()[1] = 100 # ravel 改变原数组\n",
    "\n",
    "x"
   ]
  },
  {
   "cell_type": "markdown",
   "metadata": {},
   "source": [
    "numpy.reshape\n",
    "\n",
    "reshape(a, newshape[, order])：Gives a new shape to an array without changing its data.\n",
    "\n",
    "返回一个新格式，但是不改变元素的数组"
   ]
  },
  {
   "cell_type": "code",
   "execution_count": 48,
   "metadata": {},
   "outputs": [
    {
     "data": {
      "text/plain": [
       "array([[8, 2, 4],\n",
       "       [8, 6, 8],\n",
       "       [4, 4, 9],\n",
       "       [2, 2, 5]])"
      ]
     },
     "execution_count": 48,
     "metadata": {},
     "output_type": "execute_result"
    },
    {
     "data": {
      "text/plain": [
       "array([[8, 2, 4, 8],\n",
       "       [6, 8, 4, 4],\n",
       "       [9, 2, 2, 5]])"
      ]
     },
     "execution_count": 48,
     "metadata": {},
     "output_type": "execute_result"
    },
    {
     "data": {
      "text/plain": [
       "array([[8, 2, 4, 8],\n",
       "       [6, 8, 4, 4],\n",
       "       [9, 2, 2, 5]])"
      ]
     },
     "execution_count": 48,
     "metadata": {},
     "output_type": "execute_result"
    },
    {
     "data": {
      "text/plain": [
       "array([[8, 2, 4, 8],\n",
       "       [8, 2, 2, 9],\n",
       "       [4, 6, 4, 5]])"
      ]
     },
     "execution_count": 48,
     "metadata": {},
     "output_type": "execute_result"
    },
    {
     "data": {
      "text/plain": [
       "array([[8, 2, 4, 8],\n",
       "       [6, 8, 4, 4],\n",
       "       [9, 2, 2, 5]])"
      ]
     },
     "execution_count": 48,
     "metadata": {},
     "output_type": "execute_result"
    }
   ],
   "source": [
    "r=np.random.randint(0,10,size=(4,3))\n",
    "r\n",
    "\n",
    "r1=r.reshape((3,4),order='A')\n",
    "r2=r.reshape((3,4),order='C')\n",
    "r3=r.reshape((3,4),order='F')\n",
    "r4=r.reshape((3,4))\n",
    "\n",
    "r1\n",
    "r2\n",
    "r3\n",
    "r4"
   ]
  },
  {
   "cell_type": "code",
   "execution_count": null,
   "metadata": {},
   "outputs": [],
   "source": []
  }
 ],
 "metadata": {
  "kernelspec": {
   "display_name": "Python 3",
   "language": "python",
   "name": "python3"
  },
  "language_info": {
   "codemirror_mode": {
    "name": "ipython",
    "version": 3
   },
   "file_extension": ".py",
   "mimetype": "text/x-python",
   "name": "python",
   "nbconvert_exporter": "python",
   "pygments_lexer": "ipython3",
   "version": "3.7.1"
  }
 },
 "nbformat": 4,
 "nbformat_minor": 2
}
